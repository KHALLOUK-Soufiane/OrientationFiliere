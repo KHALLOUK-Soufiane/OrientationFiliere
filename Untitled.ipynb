{
 "cells": [
  {
   "cell_type": "code",
   "execution_count": 4,
   "id": "2a2912a7",
   "metadata": {},
   "outputs": [
    {
     "name": "stdout",
     "output_type": "stream",
     "text": [
      "   id         Nom  Analyse1  Algebre1  Electricite  Thermodynamique  CHIMIE  \\\n",
      "0   1  Etudiant 1      7.43      5.61        13.26            12.01   18.56   \n",
      "1   2  Etudiant 2     10.05     16.49         8.95            15.94   11.81   \n",
      "2   3  Etudiant 3      8.26     12.68        11.96             9.09    8.25   \n",
      "3   4  Etudiant 4     11.19     19.37        10.80            12.95    6.69   \n",
      "4   5  Etudiant 5      9.56      5.25        10.39            12.92   13.83   \n",
      "\n",
      "   Langues  Moyenne S1  ANALYSE 2  ...  Moyenne S3  ANALYSE NUMERIQUE  \\\n",
      "0    11.43       11.38      12.75  ...       11.83               5.23   \n",
      "1    14.36       12.93      13.00  ...       12.06              12.14   \n",
      "2    12.79       10.50      13.84  ...       10.67              14.19   \n",
      "3    13.29       12.38      18.65  ...        9.13              15.63   \n",
      "4    17.20       11.52      14.87  ...       12.41              11.99   \n",
      "\n",
      "   ALGORITHMIQUE & PROGRAMMATION  BASE DE LA CONCEPTION  \\\n",
      "0                           7.67                  10.36   \n",
      "1                           9.26                  12.73   \n",
      "2                          13.03                  12.51   \n",
      "3                           7.54                  13.11   \n",
      "4                          13.78                  12.03   \n",
      "\n",
      "   METALLURGIE ET THERMOCHIMIE  TECHNIQUE DE DOCUMENTATION  \\\n",
      "0                        11.85                       14.80   \n",
      "1                        12.01                       12.38   \n",
      "2                        13.59                       13.10   \n",
      "3                        11.21                       12.83   \n",
      "4                        14.24                       11.49   \n",
      "\n",
      "   DAO ET OUTILS DE MATLAB  Moyenne S4  Moyenne API2  filiere  \n",
      "0                     9.44        9.89         10.86       GM  \n",
      "1                    10.00       11.42         11.74     IAGI  \n",
      "2                     9.17       12.60         11.63      GEM  \n",
      "3                     9.77       11.68         10.41       GM  \n",
      "4                    11.30       12.47         12.44       GM  \n",
      "\n",
      "[5 rows x 33 columns]\n"
     ]
    }
   ],
   "source": [
    "import pandas as pd\n",
    "\n",
    "# Read the CSV file into a Pandas DataFrame\n",
    "df = pd.read_csv('data.csv')\n",
    "\n",
    "# Explore the DataFrame and perform machine learning tasks\n",
    "# ...\n",
    "\n",
    "# Example: Print the first few rows of the DataFrame\n",
    "print(df.head())"
   ]
  },
  {
   "cell_type": "code",
   "execution_count": 6,
   "id": "9af45516",
   "metadata": {},
   "outputs": [
    {
     "name": "stdout",
     "output_type": "stream",
     "text": [
      "Model Accuracy: 0.1925\n"
     ]
    }
   ],
   "source": [
    "#requirement\n",
    "#pip install mysql-connector-python\n",
    "\n",
    "import pandas as pd\n",
    "from sklearn.model_selection import train_test_split\n",
    "from sklearn.preprocessing import LabelEncoder\n",
    "from sklearn.ensemble import RandomForestClassifier\n",
    "from sklearn.metrics import accuracy_score\n",
    "\n",
    "# Load the dataset\n",
    "data = pd.read_csv('data.csv')\n",
    "\n",
    "# Preprocess the data\n",
    "X = data.iloc[:, 2:-1]  # Selecting columns from 'Analyse1' to 'Moyenne API2' (excluding 'id' and 'filiere')\n",
    "y = data['filiere']\n",
    "\n",
    "# Encode the categorical variable (filiere)\n",
    "label_encoder = LabelEncoder()\n",
    "y_encoded = label_encoder.fit_transform(y)\n",
    "\n",
    "# Split the data into training and test sets\n",
    "X_train, X_test, y_train, y_test = train_test_split(X, y_encoded, test_size=0.2, random_state=42)\n",
    "\n",
    "# Train the Random Forest model\n",
    "model = RandomForestClassifier()\n",
    "model.fit(X_train, y_train)\n",
    "\n",
    "# Make predictions on the test set\n",
    "y_pred = model.predict(X_test)\n",
    "\n",
    "# Evaluate the model's performance\n",
    "accuracy = accuracy_score(y_test, y_pred)\n",
    "print(\"Model Accuracy:\", accuracy)\n"
   ]
  },
  {
   "cell_type": "code",
   "execution_count": 7,
   "id": "5ed2dbb7",
   "metadata": {},
   "outputs": [
    {
     "ename": "ImportError",
     "evalue": "cannot import name 'joblib' from 'sklearn.externals' (/Users/yahya/opt/anaconda3/lib/python3.9/site-packages/sklearn/externals/__init__.py)",
     "output_type": "error",
     "traceback": [
      "\u001b[0;31m---------------------------------------------------------------------------\u001b[0m",
      "\u001b[0;31mImportError\u001b[0m                               Traceback (most recent call last)",
      "\u001b[0;32m/var/folders/m2/nbtbznv11lv604d8rrvkdtk80000gn/T/ipykernel_64327/1043709584.py\u001b[0m in \u001b[0;36m<module>\u001b[0;34m\u001b[0m\n\u001b[0;32m----> 1\u001b[0;31m \u001b[0;32mfrom\u001b[0m \u001b[0msklearn\u001b[0m\u001b[0;34m.\u001b[0m\u001b[0mexternals\u001b[0m \u001b[0;32mimport\u001b[0m \u001b[0mjoblib\u001b[0m\u001b[0;34m\u001b[0m\u001b[0;34m\u001b[0m\u001b[0m\n\u001b[0m",
      "\u001b[0;31mImportError\u001b[0m: cannot import name 'joblib' from 'sklearn.externals' (/Users/yahya/opt/anaconda3/lib/python3.9/site-packages/sklearn/externals/__init__.py)"
     ]
    }
   ],
   "source": [
    "from sklearn.externals import joblib"
   ]
  },
  {
   "cell_type": "code",
   "execution_count": null,
   "id": "47e3bc74",
   "metadata": {},
   "outputs": [],
   "source": []
  }
 ],
 "metadata": {
  "kernelspec": {
   "display_name": "Python 3 (ipykernel)",
   "language": "python",
   "name": "python3"
  },
  "language_info": {
   "codemirror_mode": {
    "name": "ipython",
    "version": 3
   },
   "file_extension": ".py",
   "mimetype": "text/x-python",
   "name": "python",
   "nbconvert_exporter": "python",
   "pygments_lexer": "ipython3",
   "version": "3.9.13"
  }
 },
 "nbformat": 4,
 "nbformat_minor": 5
}
